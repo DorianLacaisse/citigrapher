{
 "cells": [
  {
   "cell_type": "markdown",
   "metadata": {},
   "source": [
    "# Central London Data Science Project Nights\n",
    "### Citigrapher 1: Google Maps API\n",
    "The focus of this meetup is in finding out different ways in which training data can be structure in order to improve a models accuracy.\n",
    "\n",
    "## Overview\n",
    "\n",
    "1. User input \n",
    "2. API query\n",
    "3. Storage & Extension\n",
    "\n",
    "These 3 parts will be demonstrated in the following tutorial and will give an idea\n",
    "of how a few packages can be used to tackle the problem."
   ]
  },
  {
   "cell_type": "markdown",
   "metadata": {},
   "source": [
    "## 1. User input\n",
    "\n",
    "The first thing that a user will want to do when using citigrapher is to input locations\n",
    "that represent their starting and final destinations. These may represent their work and\n",
    "home addresses respectively. We will want to be able to do this for a number of potential\n",
    "people."
   ]
  },
  {
   "cell_type": "code",
   "execution_count": 2,
   "metadata": {
    "collapsed": false
   },
   "outputs": [],
   "source": [
    "# User input function\n",
    "def request_user_address():\n",
    "    # Ask user for start address\n",
    "    startAddress = input('Enter a start location: ')\n",
    "    # Ask user for end address\n",
    "    finalAddress = input('Enter a final location: ')\n",
    "    return({'Start': startAddress, 'Final': finalAddress})"
   ]
  },
  {
   "cell_type": "markdown",
   "metadata": {},
   "source": [
    "We can now use this within a larger function to get everyone's addresses:"
   ]
  },
  {
   "cell_type": "code",
   "execution_count": 3,
   "metadata": {
    "collapsed": true
   },
   "outputs": [],
   "source": [
    "# User inputs function\n",
    "def request_all_user_addresses():\n",
    "    # Ask user for number of people\n",
    "    numPeople = int(input(\"How many people are we connecting: \"))\n",
    "\n",
    "    # Preinitialise results\n",
    "    res = {}\n",
    "\n",
    "    # Query this many times\n",
    "    for i in range(numPeople):\n",
    "        # give the user an idea of who the info is for\n",
    "        print(\"For person {}\".format(i))\n",
    "        res[i] = {}\n",
    "        res[i]['Location'] = request_user_address()\n",
    "\n",
    "    # And let's returnn this for further use\n",
    "    return(res)"
   ]
  },
  {
   "cell_type": "code",
   "execution_count": 4,
   "metadata": {
    "collapsed": false
   },
   "outputs": [
    {
     "name": "stdout",
     "output_type": "stream",
     "text": [
      "How many people are we connecting: 3\n",
      "For person 0\n",
      "Enter a start location: w120rq\n",
      "Enter a final location: sw165yr\n",
      "For person 1\n",
      "Enter a start location: nw17db\n",
      "Enter a final location: e10AA\n",
      "For person 2\n",
      "Enter a start location: sw111qn\n",
      "Enter a final location: se171je\n"
     ]
    }
   ],
   "source": [
    "t = request_all_user_addresses()"
   ]
  },
  {
   "cell_type": "markdown",
   "metadata": {},
   "source": [
    "The above will clearly be insufficient/annoying when there are lots of people, so in a future meetup\n",
    "we will be exploring how to best carry out local storage for a user so that they only ever have to enter\n",
    "information for a particular person once. I.e. if you have already entered your friend Bob's work and \n",
    "home addresses you don't want to do that every time, but simply ask the user whether they want to use\n",
    "Bob's default addresses. \n",
    "\n",
    "We will now pretend that we saved this output to file so we can use it in the next step, so we will \n",
    "now import it here:"
   ]
  },
  {
   "cell_type": "code",
   "execution_count": 3,
   "metadata": {
    "collapsed": false
   },
   "outputs": [
    {
     "data": {
      "text/plain": [
       "'C:\\\\Users\\\\Oliver\\\\GoogleDrive\\\\DataScience\\\\githubs\\\\citigrapher\\\\Python'"
      ]
     },
     "execution_count": 3,
     "metadata": {},
     "output_type": "execute_result"
    }
   ],
   "source": [
    "import os\n",
    "os.getcwd()"
   ]
  },
  {
   "cell_type": "code",
   "execution_count": 1,
   "metadata": {
    "collapsed": false
   },
   "outputs": [
    {
     "ename": "FileNotFoundError",
     "evalue": "[Errno 2] No such file or directory: 'inst/extdata/user_addresses.txt'",
     "output_type": "error",
     "traceback": [
      "\u001b[0;31m---------------------------------------------------------------------------\u001b[0m",
      "\u001b[0;31mFileNotFoundError\u001b[0m                         Traceback (most recent call last)",
      "\u001b[0;32m<ipython-input-1-57ce17e7c9f9>\u001b[0m in \u001b[0;36m<module>\u001b[0;34m()\u001b[0m\n\u001b[1;32m      1\u001b[0m \u001b[1;32mimport\u001b[0m \u001b[0mcsv\u001b[0m\u001b[1;33m\u001b[0m\u001b[0m\n\u001b[0;32m----> 2\u001b[0;31m \u001b[0mt\u001b[0m \u001b[1;33m=\u001b[0m \u001b[0mlist\u001b[0m\u001b[1;33m(\u001b[0m\u001b[0mcsv\u001b[0m\u001b[1;33m.\u001b[0m\u001b[0mreader\u001b[0m\u001b[1;33m(\u001b[0m\u001b[0mopen\u001b[0m\u001b[1;33m(\u001b[0m\u001b[1;34m'inst/extdata/user_addresses.txt'\u001b[0m\u001b[1;33m)\u001b[0m\u001b[1;33m,\u001b[0m \u001b[0mdelimiter\u001b[0m\u001b[1;33m=\u001b[0m\u001b[1;34m'\\t'\u001b[0m\u001b[1;33m)\u001b[0m\u001b[1;33m)\u001b[0m\u001b[1;33m\u001b[0m\u001b[0m\n\u001b[0m",
      "\u001b[0;31mFileNotFoundError\u001b[0m: [Errno 2] No such file or directory: 'inst/extdata/user_addresses.txt'"
     ]
    }
   ],
   "source": [
    "import csv\n",
    "t = list(csv.reader(open('inst/extdata/user_addresses.txt'), delimiter='\\t'))"
   ]
  }
 ],
 "metadata": {
  "anaconda-cloud": {},
  "kernelspec": {
   "display_name": "Python [default]",
   "language": "python",
   "name": "python3"
  },
  "language_info": {
   "codemirror_mode": {
    "name": "ipython",
    "version": 3
   },
   "file_extension": ".py",
   "mimetype": "text/x-python",
   "name": "python",
   "nbconvert_exporter": "python",
   "pygments_lexer": "ipython3",
   "version": "3.5.2"
  }
 },
 "nbformat": 4,
 "nbformat_minor": 1
}
